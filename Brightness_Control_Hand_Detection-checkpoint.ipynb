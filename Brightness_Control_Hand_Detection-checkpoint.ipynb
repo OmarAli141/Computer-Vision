{
 "cells": [
  {
   "cell_type": "code",
   "execution_count": 2,
   "id": "74cb009c",
   "metadata": {},
   "outputs": [
    {
     "name": "stdout",
     "output_type": "stream",
     "text": [
      "Collecting screen_brightness_control\n",
      "  Downloading screen_brightness_control-0.23.0-py3-none-any.whl (35 kB)\n",
      "Collecting wmi\n",
      "  Downloading WMI-1.5.1-py2.py3-none-any.whl (28 kB)\n",
      "Collecting pypiwin32\n",
      "  Downloading pypiwin32-223-py3-none-any.whl (1.7 kB)\n",
      "Requirement already satisfied: pywin32 in d:\\anaconda\\lib\\site-packages (from screen_brightness_control) (302)\n",
      "Installing collected packages: wmi, pypiwin32, screen-brightness-control\n",
      "Successfully installed pypiwin32-223 screen-brightness-control-0.23.0 wmi-1.5.1\n",
      "Note: you may need to restart the kernel to use updated packages.\n"
     ]
    },
    {
     "name": "stderr",
     "output_type": "stream",
     "text": [
      "WARNING: Ignoring invalid distribution -rotobuf (d:\\anaconda\\lib\\site-packages)\n",
      "WARNING: Ignoring invalid distribution - (d:\\anaconda\\lib\\site-packages)\n",
      "WARNING: Ignoring invalid distribution -rotobuf (d:\\anaconda\\lib\\site-packages)\n",
      "WARNING: Ignoring invalid distribution - (d:\\anaconda\\lib\\site-packages)\n",
      "WARNING: Ignoring invalid distribution -rotobuf (d:\\anaconda\\lib\\site-packages)\n",
      "WARNING: Ignoring invalid distribution - (d:\\anaconda\\lib\\site-packages)\n",
      "WARNING: Ignoring invalid distribution -rotobuf (d:\\anaconda\\lib\\site-packages)\n",
      "WARNING: Ignoring invalid distribution - (d:\\anaconda\\lib\\site-packages)\n",
      "WARNING: Ignoring invalid distribution -rotobuf (d:\\anaconda\\lib\\site-packages)\n",
      "WARNING: Ignoring invalid distribution - (d:\\anaconda\\lib\\site-packages)\n",
      "WARNING: Ignoring invalid distribution -rotobuf (d:\\anaconda\\lib\\site-packages)\n",
      "WARNING: Ignoring invalid distribution - (d:\\anaconda\\lib\\site-packages)\n",
      "WARNING: Ignoring invalid distribution -rotobuf (d:\\anaconda\\lib\\site-packages)\n",
      "WARNING: Ignoring invalid distribution - (d:\\anaconda\\lib\\site-packages)\n",
      "WARNING: Ignoring invalid distribution -rotobuf (d:\\anaconda\\lib\\site-packages)\n",
      "WARNING: Ignoring invalid distribution - (d:\\anaconda\\lib\\site-packages)\n",
      "WARNING: Ignoring invalid distribution -rotobuf (d:\\anaconda\\lib\\site-packages)\n",
      "WARNING: Ignoring invalid distribution - (d:\\anaconda\\lib\\site-packages)\n"
     ]
    }
   ],
   "source": [
    "pip install screen_brightness_control"
   ]
  },
  {
   "cell_type": "code",
   "execution_count": 1,
   "id": "6ebef3be",
   "metadata": {},
   "outputs": [],
   "source": [
    "# Importing Libraries \n",
    "import cv2 \n",
    "import mediapipe as mp \n",
    "from math import hypot\n",
    "import screen_brightness_control as sbc \n",
    "import numpy as np "
   ]
  },
  {
   "cell_type": "code",
   "execution_count": 2,
   "id": "8ae880d0",
   "metadata": {},
   "outputs": [],
   "source": [
    "# Initializing the Model \n",
    "mpHands = mp.solutions.hands \n",
    "hands = mpHands.Hands( \n",
    "    static_image_mode=False, \n",
    "    model_complexity=1, \n",
    "    min_detection_confidence=0.75, \n",
    "    min_tracking_confidence=0.75, \n",
    "    max_num_hands=2) \n",
    "  \n",
    "Draw = mp.solutions.drawing_utils "
   ]
  },
  {
   "cell_type": "code",
   "execution_count": 3,
   "id": "74667821",
   "metadata": {},
   "outputs": [
    {
     "name": "stderr",
     "output_type": "stream",
     "text": [
      "D:\\Anaconda\\lib\\site-packages\\google\\protobuf\\symbol_database.py:55: UserWarning: SymbolDatabase.GetPrototype() is deprecated. Please use message_factory.GetMessageClass() instead. SymbolDatabase.GetPrototype() will be removed soon.\n",
      "  warnings.warn('SymbolDatabase.GetPrototype() is deprecated. Please '\n"
     ]
    }
   ],
   "source": [
    "# Start capturing video from webcam \n",
    "cap = cv2.VideoCapture(0) \n",
    "  \n",
    "while True: \n",
    "    # Read video frame by frame \n",
    "    _, frame = cap.read() \n",
    "  \n",
    "    # Flip image \n",
    "    frame = cv2.flip(frame, 1) \n",
    "  \n",
    "    # Convert BGR image to RGB image \n",
    "    frameRGB = cv2.cvtColor(frame, cv2.COLOR_BGR2RGB) \n",
    "  \n",
    "    # Process the RGB image \n",
    "    Process = hands.process(frameRGB) \n",
    "  \n",
    "    landmarkList = [] \n",
    "    # if hands are present in image(frame) \n",
    "    if Process.multi_hand_landmarks: \n",
    "        # detect handmarks \n",
    "        for handlm in Process.multi_hand_landmarks: \n",
    "            for _id, landmarks in enumerate(handlm.landmark): \n",
    "                # store height and width of image \n",
    "                height, width, color_channels = frame.shape \n",
    "  \n",
    "                # calculate and append x, y coordinates \n",
    "                # of handmarks from image(frame) to lmList \n",
    "                x, y = int(landmarks.x*width), int(landmarks.y*height) \n",
    "                landmarkList.append([_id, x, y]) \n",
    "  \n",
    "            # draw Landmarks \n",
    "            Draw.draw_landmarks(frame, handlm, \n",
    "                                mpHands.HAND_CONNECTIONS) \n",
    "  \n",
    "    # If landmarks list is not empty \n",
    "    if landmarkList != []: \n",
    "        # store x,y coordinates of (tip of) thumb \n",
    "        x_1, y_1 = landmarkList[4][1], landmarkList[4][2] \n",
    "  \n",
    "        # store x,y coordinates of (tip of) index finger \n",
    "        x_2, y_2 = landmarkList[8][1], landmarkList[8][2] \n",
    "  \n",
    "        # draw circle on thumb and index finger tip \n",
    "        cv2.circle(frame, (x_1, y_1), 7, (0, 255, 0), cv2.FILLED) \n",
    "        cv2.circle(frame, (x_2, y_2), 7, (0, 255, 0), cv2.FILLED) \n",
    "  \n",
    "        # draw line from tip of thumb to tip of index finger \n",
    "        cv2.line(frame, (x_1, y_1), (x_2, y_2), (0, 255, 0), 3) \n",
    "  \n",
    "        # calculate square root of the sum of \n",
    "        # squares of the specified arguments. \n",
    "        L = hypot(x_2-x_1, y_2-y_1) \n",
    "  \n",
    "        # 1-D linear interpolant to a function \n",
    "        # with given discrete data points \n",
    "        # (Hand range 15 - 220, Brightness \n",
    "        # range 0 - 100), evaluated at length. \n",
    "        b_level = np.interp(L, [15, 220], [0, 100]) \n",
    "  \n",
    "        # set brightness \n",
    "        sbc.set_brightness(int(b_level)) \n",
    "  \n",
    "    # Display Video and when 'q' is entered, destroy  \n",
    "    # the window \n",
    "    cv2.imshow('Image', frame) \n",
    "    if cv2.waitKey(1) & 0xff == ord('q'): \n",
    "        break\n",
    "\n",
    "cap.release()\n",
    "cv2.destroyAllWindows()"
   ]
  },
  {
   "cell_type": "code",
   "execution_count": null,
   "id": "61fbfe79",
   "metadata": {},
   "outputs": [],
   "source": []
  }
 ],
 "metadata": {
  "kernelspec": {
   "display_name": "Python 3 (ipykernel)",
   "language": "python",
   "name": "python3"
  },
  "language_info": {
   "codemirror_mode": {
    "name": "ipython",
    "version": 3
   },
   "file_extension": ".py",
   "mimetype": "text/x-python",
   "name": "python",
   "nbconvert_exporter": "python",
   "pygments_lexer": "ipython3",
   "version": "3.9.12"
  }
 },
 "nbformat": 4,
 "nbformat_minor": 5
}
