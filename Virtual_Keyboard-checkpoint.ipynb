{
 "cells": [
  {
   "cell_type": "code",
   "execution_count": 21,
   "id": "97794df1",
   "metadata": {},
   "outputs": [
    {
     "name": "stdout",
     "output_type": "stream",
     "text": [
      "Collecting pygame\n",
      "  Downloading pygame-2.6.0-cp39-cp39-win_amd64.whl (10.7 MB)Note: you may need to restart the kernel to use updated packages.\n"
     ]
    },
    {
     "name": "stderr",
     "output_type": "stream",
     "text": [
      "WARNING: Ignoring invalid distribution -rotobuf (d:\\anaconda\\lib\\site-packages)\n",
      "WARNING: Ignoring invalid distribution - (d:\\anaconda\\lib\\site-packages)\n",
      "WARNING: Ignoring invalid distribution -rotobuf (d:\\anaconda\\lib\\site-packages)\n",
      "WARNING: Ignoring invalid distribution - (d:\\anaconda\\lib\\site-packages)\n",
      "WARNING: Ignoring invalid distribution -rotobuf (d:\\anaconda\\lib\\site-packages)\n",
      "WARNING: Ignoring invalid distribution - (d:\\anaconda\\lib\\site-packages)\n",
      "WARNING: Ignoring invalid distribution -rotobuf (d:\\anaconda\\lib\\site-packages)\n",
      "WARNING: Ignoring invalid distribution - (d:\\anaconda\\lib\\site-packages)\n"
     ]
    },
    {
     "name": "stdout",
     "output_type": "stream",
     "text": [
      "\n",
      "Installing collected packages: pygame\n",
      "Successfully installed pygame-2.6.0\n"
     ]
    },
    {
     "name": "stderr",
     "output_type": "stream",
     "text": [
      "WARNING: Ignoring invalid distribution -rotobuf (d:\\anaconda\\lib\\site-packages)\n",
      "WARNING: Ignoring invalid distribution - (d:\\anaconda\\lib\\site-packages)\n",
      "WARNING: Ignoring invalid distribution -rotobuf (d:\\anaconda\\lib\\site-packages)\n",
      "WARNING: Ignoring invalid distribution - (d:\\anaconda\\lib\\site-packages)\n",
      "WARNING: Ignoring invalid distribution -rotobuf (d:\\anaconda\\lib\\site-packages)\n",
      "WARNING: Ignoring invalid distribution - (d:\\anaconda\\lib\\site-packages)\n"
     ]
    }
   ],
   "source": [
    "pip install pygame"
   ]
  },
  {
   "cell_type": "code",
   "execution_count": 42,
   "id": "517ea8a6",
   "metadata": {},
   "outputs": [],
   "source": [
    "import cv2\n",
    "import mediapipe as mp\n",
    "import pygame\n",
    "import time"
   ]
  },
  {
   "cell_type": "code",
   "execution_count": 43,
   "id": "fdf771b5",
   "metadata": {},
   "outputs": [],
   "source": [
    "# Initialize MediaPipe Hands\n",
    "mp_hands = mp.solutions.hands\n",
    "hands = mp_hands.Hands(min_detection_confidence=0.7, min_tracking_confidence=0.7)\n",
    "\n",
    "# Initialize Pygame for sound feedback\n",
    "pygame.mixer.init()\n",
    "key_press_sound = pygame.mixer.Sound('keypress.wav')  # Load a sound file for key press feedback"
   ]
  },
  {
   "cell_type": "code",
   "execution_count": 44,
   "id": "bd730eb5",
   "metadata": {},
   "outputs": [],
   "source": [
    "# Define the keyboard Components\n",
    "keys = [\n",
    "    # Row 1\n",
    "    {'char': 'Q', 'pos': ((50, 100), (90, 140)), 'pressed': False, 'start_time': 0},\n",
    "    {'char': 'W', 'pos': ((100, 100), (140, 140)), 'pressed': False, 'start_time': 0},\n",
    "    {'char': 'E', 'pos': ((150, 100), (190, 140)), 'pressed': False, 'start_time': 0},\n",
    "    {'char': 'R', 'pos': ((200, 100), (240, 140)), 'pressed': False, 'start_time': 0},\n",
    "    {'char': 'T', 'pos': ((250, 100), (290, 140)), 'pressed': False, 'start_time': 0},\n",
    "    {'char': 'Y', 'pos': ((300, 100), (340, 140)), 'pressed': False, 'start_time': 0},\n",
    "    {'char': 'U', 'pos': ((350, 100), (390, 140)), 'pressed': False, 'start_time': 0},\n",
    "    {'char': 'I', 'pos': ((400, 100), (440, 140)), 'pressed': False, 'start_time': 0},\n",
    "    {'char': 'O', 'pos': ((450, 100), (490, 140)), 'pressed': False, 'start_time': 0},\n",
    "    {'char': 'P', 'pos': ((500, 100), (540, 140)), 'pressed': False, 'start_time': 0},\n",
    "\n",
    "    # Row 2\n",
    "    {'char': 'A', 'pos': ((70, 150), (110, 190)), 'pressed': False, 'start_time': 0},\n",
    "    {'char': 'S', 'pos': ((120, 150), (160, 190)), 'pressed': False, 'start_time': 0},\n",
    "    {'char': 'D', 'pos': ((170, 150), (210, 190)), 'pressed': False, 'start_time': 0},\n",
    "    {'char': 'F', 'pos': ((220, 150), (260, 190)), 'pressed': False, 'start_time': 0},\n",
    "    {'char': 'G', 'pos': ((270, 150), (310, 190)), 'pressed': False, 'start_time': 0},\n",
    "    {'char': 'H', 'pos': ((320, 150), (360, 190)), 'pressed': False, 'start_time': 0},\n",
    "    {'char': 'J', 'pos': ((370, 150), (410, 190)), 'pressed': False, 'start_time': 0},\n",
    "    {'char': 'K', 'pos': ((420, 150), (460, 190)), 'pressed': False, 'start_time': 0},\n",
    "    {'char': 'L', 'pos': ((470, 150), (510, 190)), 'pressed': False, 'start_time': 0},\n",
    "\n",
    "    # Row 3\n",
    "    {'char': 'Z', 'pos': ((100, 200), (140, 240)), 'pressed': False, 'start_time': 0},\n",
    "    {'char': 'X', 'pos': ((150, 200), (190, 240)), 'pressed': False, 'start_time': 0},\n",
    "    {'char': 'C', 'pos': ((200, 200), (240, 240)), 'pressed': False, 'start_time': 0},\n",
    "    {'char': 'V', 'pos': ((250, 200), (290, 240)), 'pressed': False, 'start_time': 0},\n",
    "    {'char': 'B', 'pos': ((300, 200), (340, 240)), 'pressed': False, 'start_time': 0},\n",
    "    {'char': 'N', 'pos': ((350, 200), (390, 240)), 'pressed': False, 'start_time': 0},\n",
    "    {'char': 'M', 'pos': ((400, 200), (440, 240)), 'pressed': False, 'start_time': 0},\n",
    "\n",
    "    # Space button\n",
    "    {'char': ' ', 'pos': ((200, 250), (300, 290)), 'label': 'SPACE', 'pressed': False, 'start_time': 0},\n",
    "\n",
    "    # Backspace button\n",
    "    {'char': 'Backspace', 'pos': ((310, 250), (455, 290)), 'label': 'BACKSPACE', 'pressed': False, 'start_time': 0}\n",
    "]\n"
   ]
  },
  {
   "cell_type": "code",
   "execution_count": 45,
   "id": "63e060a7",
   "metadata": {},
   "outputs": [],
   "source": [
    "# Track the current state of pressed keys\n",
    "key_pressed = {key['char']: False for key in keys}\n",
    "key_press_delay = 0.5  # 500 milliseconds delay"
   ]
  },
  {
   "cell_type": "code",
   "execution_count": 46,
   "id": "d7ec598e",
   "metadata": {},
   "outputs": [],
   "source": [
    "# Function to draw the keyboard on the image\n",
    "def draw_keyboard(image, keys):\n",
    "    for key in keys:\n",
    "        (x1, y1), (x2, y2) = key['pos']\n",
    "        color = (0, 255, 0) if key['pressed'] else (255, 255, 255)  # Green if pressed, else white\n",
    "        cv2.rectangle(image, (x1, y1), (x2, y2), color, -1)  # Filled rectangle\n",
    "        cv2.rectangle(image, (x1, y1), (x2, y2), (0, 0, 0), 2)  # Black border\n",
    "\n",
    "        # Draw the character label\n",
    "        char_label = key.get('label', key['char'])\n",
    "        cv2.putText(image, char_label, (x1 + 10, y2 - 10),\n",
    "                    cv2.FONT_HERSHEY_SIMPLEX, 0.7, (0, 0, 0), 2)"
   ]
  },
  {
   "cell_type": "code",
   "execution_count": 47,
   "id": "3f656f24",
   "metadata": {},
   "outputs": [],
   "source": [
    "# Function to draw all hand landmarks\n",
    "def draw_hand_landmarks(image, hand_landmarks, mp_hands):\n",
    "    for idx, landmark in enumerate(hand_landmarks.landmark):\n",
    "        x = int(landmark.x * image.shape[1])\n",
    "        y = int(landmark.y * image.shape[0])\n",
    "        if idx == mp_hands.HandLandmark.INDEX_FINGER_TIP:\n",
    "            cv2.circle(image, (x, y), 10, (0, 255, 0), -1)  # Larger green circle for fingertip\n",
    "        else:\n",
    "            cv2.circle(image, (x, y), 5, (255, 0, 0), -1)  # Smaller blue circles for other landmarks\n",
    "    return hand_landmarks.landmark[mp_hands.HandLandmark.INDEX_FINGER_TIP]"
   ]
  },
  {
   "cell_type": "code",
   "execution_count": 49,
   "id": "d7280326",
   "metadata": {},
   "outputs": [],
   "source": [
    "cap = cv2.VideoCapture(0)\n",
    "typed_text = \"\"\n",
    "\n",
    "while cap.isOpened():\n",
    "    success, image = cap.read()\n",
    "    if not success:\n",
    "        break\n",
    "\n",
    "    image = cv2.flip(image, 1)\n",
    "    image_rgb = cv2.cvtColor(image, cv2.COLOR_BGR2RGB)\n",
    "    results = hands.process(image_rgb)\n",
    "\n",
    "    if results.multi_hand_landmarks:\n",
    "        for hand_landmarks in results.multi_hand_landmarks:\n",
    "            index_fingertip = draw_hand_landmarks(image, hand_landmarks, mp_hands)\n",
    "            x, y = int(index_fingertip.x * image.shape[1]), int(index_fingertip.y * image.shape[0])\n",
    "\n",
    "            key = check_key_press(x, y, keys)\n",
    "            if key:\n",
    "                current_time = time.time()\n",
    "                # Start timer if fingertip is on the key\n",
    "                if not key['pressed']:\n",
    "                    key['start_time'] = current_time\n",
    "                    key['pressed'] = True\n",
    "                else:\n",
    "                    # Check if the fingertip has been on the key for the delay duration\n",
    "                    if current_time - key['start_time'] >= key_press_delay:\n",
    "                        if not key_pressed[key['char']]:\n",
    "                            if key['char'] == 'Backspace':\n",
    "                                # Handle backspace: delete the last character in the typed text\n",
    "                                typed_text = typed_text[:-1]\n",
    "                            else:\n",
    "                                typed_text += key['char']\n",
    "                                key_press_sound.play()  # Play sound feedback for key press\n",
    "                            key_pressed[key['char']] = True\n",
    "            else:\n",
    "                # Reset pressed status for all keys if no key is being pressed\n",
    "                for key in keys:\n",
    "                    key['pressed'] = False\n",
    "                    key_pressed[key['char']] = False\n",
    "\n",
    "    draw_keyboard(image, keys)\n",
    "\n",
    "    # Draw the typed text box\n",
    "    cv2.rectangle(image, (50, 50), (600, 90), (255, 255, 255), -1)\n",
    "    cv2.putText(image, typed_text, (60, 80),\n",
    "                cv2.FONT_HERSHEY_SIMPLEX, 1, (0, 0, 0), 2)\n",
    "\n",
    "    cv2.imshow('Virtual Keyboard', image)\n",
    "    if cv2.waitKey(5) & 0xFF == 27:\n",
    "        break\n",
    "\n",
    "cap.release()\n",
    "cv2.destroyAllWindows()"
   ]
  }
 ],
 "metadata": {
  "kernelspec": {
   "display_name": "Python 3 (ipykernel)",
   "language": "python",
   "name": "python3"
  },
  "language_info": {
   "codemirror_mode": {
    "name": "ipython",
    "version": 3
   },
   "file_extension": ".py",
   "mimetype": "text/x-python",
   "name": "python",
   "nbconvert_exporter": "python",
   "pygments_lexer": "ipython3",
   "version": "3.9.12"
  }
 },
 "nbformat": 4,
 "nbformat_minor": 5
}
